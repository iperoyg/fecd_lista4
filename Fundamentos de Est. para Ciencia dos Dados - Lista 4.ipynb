{
 "cells": [
  {
   "cell_type": "markdown",
   "metadata": {},
   "source": [
    "# Arthur Iperoyg - 2018662796"
   ]
  },
  {
   "cell_type": "markdown",
   "metadata": {},
   "source": [
    "## Questão 1"
   ]
  },
  {
   "cell_type": "code",
   "execution_count": 60,
   "metadata": {},
   "outputs": [
    {
     "data": {
      "image/png": "[encoded data removed]",
      "text/plain": [
       "plot without title"
      ]
     },
     "metadata": {},
     "output_type": "display_data"
    }
   ],
   "source": [
    "x <- c(-2:12)\n",
    "pX <- dbinom(x, 20, 0.15)\n",
    "FX <- pbinom(x, 20, 0.15)\n",
    "par(mfrow=(c(1,2)))\n",
    "plot(x,pX, type = \"h\")\n",
    "plot(x,FX, type = \"s\")"
   ]
  },
  {
   "cell_type": "code",
   "execution_count": 61,
   "metadata": {},
   "outputs": [
    {
     "data": {
      "text/html": [
       "3"
      ],
      "text/latex": [
       "3"
      ],
      "text/markdown": [
       "3"
      ],
      "text/plain": [
       "[1] 3"
      ]
     },
     "metadata": {},
     "output_type": "display_data"
    },
    {
     "data": {
      "text/html": [
       "0.242828896149268"
      ],
      "text/latex": [
       "0.242828896149268"
      ],
      "text/markdown": [
       "0.242828896149268"
      ],
      "text/plain": [
       "[1] 0.2428289"
      ]
     },
     "metadata": {},
     "output_type": "display_data"
    }
   ],
   "source": [
    "x[match(max(pX),pX)] #P(X = k) máximo é quando k = 3\n",
    "max(pX) # a probabilidade máxima é 24.3% aproximadamente"
   ]
  },
  {
   "cell_type": "code",
   "execution_count": 63,
   "metadata": {},
   "outputs": [
    {
     "data": {
      "image/png": "[encoded data removed]",
      "text/plain": [
       "plot without title"
      ]
     },
     "metadata": {},
     "output_type": "display_data"
    }
   ],
   "source": [
    "x2 <- c(0:8)\n",
    "pX2 <- dbinom(x2, 20, 0.15)\n",
    "par(mfrow=(c(1,1)))\n",
    "plot(x2,pX2, type = \"h\")"
   ]
  },
  {
   "cell_type": "code",
   "execution_count": 77,
   "metadata": {},
   "outputs": [
    {
     "data": {
      "image/png": "[encoded data removed]",
      "text/plain": [
       "plot without title"
      ]
     },
     "metadata": {},
     "output_type": "display_data"
    }
   ],
   "source": [
    "eX = 20 * 0.15\n",
    "li = eX-1\n",
    "ls = eX+1\n",
    "FX <- pbinom(li:ls, 20, 0.15)\n",
    "plot(li:ls,FX, type = \"s\")\n",
    "#O valor acumulado no entorno de E(X) é bem alto (perto de 65%)"
   ]
  },
  {
   "cell_type": "code",
   "execution_count": 91,
   "metadata": {},
   "outputs": [
    {
     "data": {
      "text/html": [
       "0.654288970179971"
      ],
      "text/latex": [
       "0.654288970179971"
      ],
      "text/markdown": [
       "0.654288970179971"
      ],
      "text/plain": [
       "[1] 0.654289"
      ]
     },
     "metadata": {},
     "output_type": "display_data"
    },
    {
     "data": {
      "text/html": [
       "0.654288970179971"
      ],
      "text/latex": [
       "0.654288970179971"
      ],
      "text/markdown": [
       "0.654288970179971"
      ],
      "text/plain": [
       "[1] 0.654289"
      ]
     },
     "metadata": {},
     "output_type": "display_data"
    }
   ],
   "source": [
    "eX = 20 * 0.15\n",
    "li = eX-1\n",
    "ls = eX+1\n",
    "sum(dbinom(li:ls, 20, 0.15))\n",
    "pbinom(ls,20, 0.15) - pbinom(li-0.01, 20, 0.15) # Eh necessario subtrair 0.01 porque senao o valor do limite inferior será subtraido do resultado, o que nao eh o que queremos."
   ]
  },
  {
   "cell_type": "code",
   "execution_count": 92,
   "metadata": {},
   "outputs": [
    {
     "data": {
      "text/html": [
       "6"
      ],
      "text/latex": [
       "6"
      ],
      "text/markdown": [
       "6"
      ],
      "text/plain": [
       "[1] 6"
      ]
     },
     "metadata": {},
     "output_type": "display_data"
    }
   ],
   "source": [
    "qbinom(0.95, 20, 0.15)"
   ]
  },
  {
   "cell_type": "code",
   "execution_count": 93,
   "metadata": {},
   "outputs": [
    {
     "data": {
      "text/html": [
       "0.978064899143155"
      ],
      "text/latex": [
       "0.978064899143155"
      ],
      "text/markdown": [
       "0.978064899143155"
      ],
      "text/plain": [
       "[1] 0.9780649"
      ]
     },
     "metadata": {},
     "output_type": "display_data"
    }
   ],
   "source": [
    "pbinom(6,20,0.15)"
   ]
  },
  {
   "cell_type": "code",
   "execution_count": 112,
   "metadata": {},
   "outputs": [
    {
     "data": {
      "text/html": [
       "0.634"
      ],
      "text/latex": [
       "0.634"
      ],
      "text/markdown": [
       "0.634"
      ],
      "text/plain": [
       "[1] 0.634"
      ]
     },
     "metadata": {},
     "output_type": "display_data"
    }
   ],
   "source": [
    "size <- 1000\n",
    "v <- rbinom(size, 20, 0.15)\n",
    "eX = 20 * 0.15\n",
    "li = eX-1\n",
    "ls = eX+1\n",
    "length(v[v >= li & v <= ls])/size\n",
    "# Sim, 63% dos valores cairam na faixa, o que era esperado."
   ]
  },
  {
   "cell_type": "code",
   "execution_count": 133,
   "metadata": {},
   "outputs": [
    {
     "name": "stdout",
     "output_type": "stream",
     "text": [
      "[1] \"X = 0\"\n"
     ]
    },
    {
     "data": {
      "text/html": [
       "0.0387595310845143"
      ],
      "text/latex": [
       "0.0387595310845143"
      ],
      "text/markdown": [
       "0.0387595310845143"
      ],
      "text/plain": [
       "[1] 0.03875953"
      ]
     },
     "metadata": {},
     "output_type": "display_data"
    },
    {
     "data": {
      "text/html": [
       "0.05"
      ],
      "text/latex": [
       "0.05"
      ],
      "text/markdown": [
       "0.05"
      ],
      "text/plain": [
       "[1] 0.05"
      ]
     },
     "metadata": {},
     "output_type": "display_data"
    },
    {
     "name": "stdout",
     "output_type": "stream",
     "text": [
      "[1] \"X = 1\"\n"
     ]
    },
    {
     "data": {
      "text/html": [
       "0.136798345004168"
      ],
      "text/latex": [
       "0.136798345004168"
      ],
      "text/markdown": [
       "0.136798345004168"
      ],
      "text/plain": [
       "[1] 0.1367983"
      ]
     },
     "metadata": {},
     "output_type": "display_data"
    },
    {
     "data": {
      "text/html": [
       "0.13"
      ],
      "text/latex": [
       "0.13"
      ],
      "text/markdown": [
       "0.13"
      ],
      "text/plain": [
       "[1] 0.13"
      ]
     },
     "metadata": {},
     "output_type": "display_data"
    },
    {
     "name": "stdout",
     "output_type": "stream",
     "text": [
      "[1] \"X = 2\"\n"
     ]
    },
    {
     "data": {
      "text/html": [
       "0.229338401918753"
      ],
      "text/latex": [
       "0.229338401918753"
      ],
      "text/markdown": [
       "0.229338401918753"
      ],
      "text/plain": [
       "[1] 0.2293384"
      ]
     },
     "metadata": {},
     "output_type": "display_data"
    },
    {
     "data": {
      "text/html": [
       "0.2"
      ],
      "text/latex": [
       "0.2"
      ],
      "text/markdown": [
       "0.2"
      ],
      "text/plain": [
       "[1] 0.2"
      ]
     },
     "metadata": {},
     "output_type": "display_data"
    },
    {
     "name": "stdout",
     "output_type": "stream",
     "text": [
      "[1] \"X = 3\"\n"
     ]
    },
    {
     "data": {
      "text/html": [
       "0.242828896149268"
      ],
      "text/latex": [
       "0.242828896149268"
      ],
      "text/markdown": [
       "0.242828896149268"
      ],
      "text/plain": [
       "[1] 0.2428289"
      ]
     },
     "metadata": {},
     "output_type": "display_data"
    },
    {
     "data": {
      "text/html": [
       "0.25"
      ],
      "text/latex": [
       "0.25"
      ],
      "text/markdown": [
       "0.25"
      ],
      "text/plain": [
       "[1] 0.25"
      ]
     },
     "metadata": {},
     "output_type": "display_data"
    },
    {
     "name": "stdout",
     "output_type": "stream",
     "text": [
      "[1] \"X = 4\"\n"
     ]
    },
    {
     "data": {
      "text/html": [
       "0.182121672111951"
      ],
      "text/latex": [
       "0.182121672111951"
      ],
      "text/markdown": [
       "0.182121672111951"
      ],
      "text/plain": [
       "[1] 0.1821217"
      ]
     },
     "metadata": {},
     "output_type": "display_data"
    },
    {
     "data": {
      "text/html": [
       "0.2"
      ],
      "text/latex": [
       "0.2"
      ],
      "text/markdown": [
       "0.2"
      ],
      "text/plain": [
       "[1] 0.2"
      ]
     },
     "metadata": {},
     "output_type": "display_data"
    },
    {
     "name": "stdout",
     "output_type": "stream",
     "text": [
      "[1] \"X = 5\"\n"
     ]
    },
    {
     "data": {
      "text/html": [
       "0.102845179545572"
      ],
      "text/latex": [
       "0.102845179545572"
      ],
      "text/markdown": [
       "0.102845179545572"
      ],
      "text/plain": [
       "[1] 0.1028452"
      ]
     },
     "metadata": {},
     "output_type": "display_data"
    },
    {
     "data": {
      "text/html": [
       "0.1"
      ],
      "text/latex": [
       "0.1"
      ],
      "text/markdown": [
       "0.1"
      ],
      "text/plain": [
       "[1] 0.1"
      ]
     },
     "metadata": {},
     "output_type": "display_data"
    },
    {
     "name": "stdout",
     "output_type": "stream",
     "text": [
      "[1] \"X = 6\"\n"
     ]
    },
    {
     "data": {
      "text/html": [
       "0.0453728733289289"
      ],
      "text/latex": [
       "0.0453728733289289"
      ],
      "text/markdown": [
       "0.0453728733289289"
      ],
      "text/plain": [
       "[1] 0.04537287"
      ]
     },
     "metadata": {},
     "output_type": "display_data"
    },
    {
     "data": {
      "text/html": [
       "0.07"
      ],
      "text/latex": [
       "0.07"
      ],
      "text/markdown": [
       "0.07"
      ],
      "text/plain": [
       "[1] 0.07"
      ]
     },
     "metadata": {},
     "output_type": "display_data"
    }
   ],
   "source": [
    "size = 100\n",
    "v <- rbinom(size, 20, 0.15)\n",
    "print(\"X = 0\")\n",
    "dbinom(0,20,0.15)\n",
    "length(v[v == 0])/size\n",
    "print(\"X = 1\")\n",
    "dbinom(1,20,0.15)\n",
    "length(v[v == 1])/size\n",
    "print(\"X = 2\")\n",
    "dbinom(2,20,0.15)\n",
    "length(v[v == 2])/size\n",
    "print(\"X = 3\")\n",
    "dbinom(3,20,0.15)\n",
    "length(v[v == 3])/size\n",
    "print(\"X = 4\")\n",
    "dbinom(4,20,0.15)\n",
    "length(v[v == 4])/size\n",
    "print(\"X = 5\")\n",
    "dbinom(5,20,0.15)\n",
    "length(v[v == 5])/size\n",
    "print(\"X = 6\")\n",
    "dbinom(6,20,0.15)\n",
    "length(v[v == 6])/size\n",
    "# Sim, os valores sao parecidos."
   ]
  },
  {
   "cell_type": "markdown",
   "metadata": {},
   "source": [
    "## Questao 2"
   ]
  },
  {
   "cell_type": "code",
   "execution_count": 138,
   "metadata": {},
   "outputs": [
    {
     "data": {
      "text/html": [
       "0"
      ],
      "text/latex": [
       "0"
      ],
      "text/markdown": [
       "0"
      ],
      "text/plain": [
       "[1] 0"
      ]
     },
     "metadata": {},
     "output_type": "display_data"
    },
    {
     "data": {
      "text/html": [
       "9"
      ],
      "text/latex": [
       "9"
      ],
      "text/markdown": [
       "9"
      ],
      "text/plain": [
       "[1] 9"
      ]
     },
     "metadata": {},
     "output_type": "display_data"
    },
    {
     "data": {
      "image/png": "[encoded data removed]",
      "text/plain": [
       "plot without title"
      ]
     },
     "metadata": {},
     "output_type": "display_data"
    }
   ],
   "source": [
    "x1 <- c(0:6)\n",
    "x2 <- c(0:22)\n",
    "eX1 = 0.73\n",
    "eX2 = 10\n",
    "pX1 <- dpois(x1, eX1)\n",
    "FX1 <- ppois(x1, eX1)\n",
    "pX2 <- dpois(x2, eX2)\n",
    "FX2 <- ppois(x2, eX2)\n",
    "par(mfrow=(c(2,2)))\n",
    "plot(x1,pX1, type = \"h\")\n",
    "plot(x1,FX1, type = \"s\")\n",
    "plot(x2,pX2, type = \"h\")\n",
    "plot(x2,FX2, type = \"s\")"
   ]
  },
  {
   "cell_type": "code",
   "execution_count": 144,
   "metadata": {},
   "outputs": [
    {
     "data": {
      "text/html": [
       "0"
      ],
      "text/latex": [
       "0"
      ],
      "text/markdown": [
       "0"
      ],
      "text/plain": [
       "[1] 0"
      ]
     },
     "metadata": {},
     "output_type": "display_data"
    },
    {
     "data": {
      "text/html": [
       "9"
      ],
      "text/latex": [
       "9"
      ],
      "text/markdown": [
       "9"
      ],
      "text/plain": [
       "[1] 9"
      ]
     },
     "metadata": {},
     "output_type": "display_data"
    }
   ],
   "source": [
    "x1 <- c(-1:6)\n",
    "x2 <- c(0:21)\n",
    "eX1 = 0.73\n",
    "eX2 = 10\n",
    "pX1 <- dpois(x1, eX1)\n",
    "FX1 <- ppois(x1, eX1)\n",
    "pX2 <- dpois(x2, eX2)\n",
    "FX2 <- ppois(x2, eX2)\n",
    "x1[match(max(pX1),pX1)]\n",
    "x2[match(max(pX2),pX2)]\n",
    "#Sim, o valor k obtido é próximo ao valor esperado (0 quando E(x) = 0.73 e 9 quando E(x) = 10)"
   ]
  },
  {
   "cell_type": "code",
   "execution_count": 152,
   "metadata": {},
   "outputs": [
    {
     "data": {
      "text/html": [
       "0.993352334865238"
      ],
      "text/latex": [
       "0.993352334865238"
      ],
      "text/markdown": [
       "0.993352334865238"
      ],
      "text/plain": [
       "[1] 0.9933523"
      ]
     },
     "metadata": {},
     "output_type": "display_data"
    },
    {
     "data": {
      "text/html": [
       "0.99564234362263"
      ],
      "text/latex": [
       "0.99564234362263"
      ],
      "text/markdown": [
       "0.99564234362263"
      ],
      "text/plain": [
       "[1] 0.9956423"
      ]
     },
     "metadata": {},
     "output_type": "display_data"
    }
   ],
   "source": [
    "x1 <- c(0:3)\n",
    "x2 <- c(3:20)\n",
    "eX1 = 0.73\n",
    "eX2 = 10\n",
    "sum(dpois(x1, eX1))\n",
    "sum(dpois(x2, eX2))"
   ]
  },
  {
   "cell_type": "code",
   "execution_count": 161,
   "metadata": {},
   "outputs": [
    {
     "data": {
      "text/html": [
       "0.993352334865238"
      ],
      "text/latex": [
       "0.993352334865238"
      ],
      "text/markdown": [
       "0.993352334865238"
      ],
      "text/plain": [
       "[1] 0.9933523"
      ]
     },
     "metadata": {},
     "output_type": "display_data"
    },
    {
     "data": {
      "text/html": [
       "0.99564234362263"
      ],
      "text/latex": [
       "0.99564234362263"
      ],
      "text/markdown": [
       "0.99564234362263"
      ],
      "text/plain": [
       "[1] 0.9956423"
      ]
     },
     "metadata": {},
     "output_type": "display_data"
    }
   ],
   "source": [
    "x1 <- c(0:3)\n",
    "x2 <- c(3:20)\n",
    "eX1 = 0.73\n",
    "eX2 = 10\n",
    "ppois(3,eX1)-ppois(0-0.01,eX1)\n",
    "ppois(20,eX2)-ppois(3-0.01,eX2)"
   ]
  },
  {
   "cell_type": "code",
   "execution_count": 169,
   "metadata": {},
   "outputs": [
    {
     "name": "stdout",
     "output_type": "stream",
     "text": [
      "[1] \"X = 0 - E(X) = 0.73\"\n"
     ]
    },
    {
     "data": {
      "text/html": [
       "0.481908990090202"
      ],
      "text/latex": [
       "0.481908990090202"
      ],
      "text/markdown": [
       "0.481908990090202"
      ],
      "text/plain": [
       "[1] 0.481909"
      ]
     },
     "metadata": {},
     "output_type": "display_data"
    },
    {
     "data": {
      "text/html": [
       "0.486"
      ],
      "text/latex": [
       "0.486"
      ],
      "text/markdown": [
       "0.486"
      ],
      "text/plain": [
       "[1] 0.486"
      ]
     },
     "metadata": {},
     "output_type": "display_data"
    },
    {
     "name": "stdout",
     "output_type": "stream",
     "text": [
      "[1] \"X = 0 - E(X) = 10\"\n"
     ]
    },
    {
     "data": {
      "text/html": [
       "4.53999297624849e-05"
      ],
      "text/latex": [
       "4.53999297624849e-05"
      ],
      "text/markdown": [
       "4.53999297624849e-05"
      ],
      "text/plain": [
       "[1] 4.539993e-05"
      ]
     },
     "metadata": {},
     "output_type": "display_data"
    },
    {
     "data": {
      "text/html": [
       "5e-05"
      ],
      "text/latex": [
       "5e-05"
      ],
      "text/markdown": [
       "5e-05"
      ],
      "text/plain": [
       "[1] 5e-05"
      ]
     },
     "metadata": {},
     "output_type": "display_data"
    },
    {
     "name": "stdout",
     "output_type": "stream",
     "text": [
      "[1] \"X = 1 - E(X) = 0.73\"\n"
     ]
    },
    {
     "data": {
      "text/html": [
       "0.351793562765848"
      ],
      "text/latex": [
       "0.351793562765848"
      ],
      "text/markdown": [
       "0.351793562765848"
      ],
      "text/plain": [
       "[1] 0.3517936"
      ]
     },
     "metadata": {},
     "output_type": "display_data"
    },
    {
     "data": {
      "text/html": [
       "0.3498"
      ],
      "text/latex": [
       "0.3498"
      ],
      "text/markdown": [
       "0.3498"
      ],
      "text/plain": [
       "[1] 0.3498"
      ]
     },
     "metadata": {},
     "output_type": "display_data"
    },
    {
     "name": "stdout",
     "output_type": "stream",
     "text": [
      "[1] \"X = 1 - E(X) = 10\"\n"
     ]
    },
    {
     "data": {
      "text/html": [
       "0.000453999297624848"
      ],
      "text/latex": [
       "0.000453999297624848"
      ],
      "text/markdown": [
       "0.000453999297624848"
      ],
      "text/plain": [
       "[1] 0.0004539993"
      ]
     },
     "metadata": {},
     "output_type": "display_data"
    },
    {
     "data": {
      "text/html": [
       "4e-04"
      ],
      "text/latex": [
       "4e-04"
      ],
      "text/markdown": [
       "4e-04"
      ],
      "text/plain": [
       "[1] 4e-04"
      ]
     },
     "metadata": {},
     "output_type": "display_data"
    },
    {
     "name": "stdout",
     "output_type": "stream",
     "text": [
      "[1] \"X = 2 - E(X) = 0.73\"\n"
     ]
    },
    {
     "data": {
      "text/html": [
       "0.128404650409534"
      ],
      "text/latex": [
       "0.128404650409534"
      ],
      "text/markdown": [
       "0.128404650409534"
      ],
      "text/plain": [
       "[1] 0.1284047"
      ]
     },
     "metadata": {},
     "output_type": "display_data"
    },
    {
     "data": {
      "text/html": [
       "0.1278"
      ],
      "text/latex": [
       "0.1278"
      ],
      "text/markdown": [
       "0.1278"
      ],
      "text/plain": [
       "[1] 0.1278"
      ]
     },
     "metadata": {},
     "output_type": "display_data"
    },
    {
     "name": "stdout",
     "output_type": "stream",
     "text": [
      "[1] \"X = 2 - E(X) = 10\"\n"
     ]
    },
    {
     "data": {
      "text/html": [
       "0.00226999648812424"
      ],
      "text/latex": [
       "0.00226999648812424"
      ],
      "text/markdown": [
       "0.00226999648812424"
      ],
      "text/plain": [
       "[1] 0.002269996"
      ]
     },
     "metadata": {},
     "output_type": "display_data"
    },
    {
     "data": {
      "text/html": [
       "0.0024"
      ],
      "text/latex": [
       "0.0024"
      ],
      "text/markdown": [
       "0.0024"
      ],
      "text/plain": [
       "[1] 0.0024"
      ]
     },
     "metadata": {},
     "output_type": "display_data"
    },
    {
     "name": "stdout",
     "output_type": "stream",
     "text": [
      "[1] \"X = 3 - E(X) = 0.73\"\n"
     ]
    },
    {
     "data": {
      "text/html": [
       "0.0312451315996534"
      ],
      "text/latex": [
       "0.0312451315996534"
      ],
      "text/markdown": [
       "0.0312451315996534"
      ],
      "text/plain": [
       "[1] 0.03124513"
      ]
     },
     "metadata": {},
     "output_type": "display_data"
    },
    {
     "data": {
      "text/html": [
       "0.0301"
      ],
      "text/latex": [
       "0.0301"
      ],
      "text/markdown": [
       "0.0301"
      ],
      "text/plain": [
       "[1] 0.0301"
      ]
     },
     "metadata": {},
     "output_type": "display_data"
    },
    {
     "name": "stdout",
     "output_type": "stream",
     "text": [
      "[1] \"X = 3 - E(X) = 10\"\n"
     ]
    },
    {
     "data": {
      "text/html": [
       "0.00756665496041415"
      ],
      "text/latex": [
       "0.00756665496041415"
      ],
      "text/markdown": [
       "0.00756665496041415"
      ],
      "text/plain": [
       "[1] 0.007566655"
      ]
     },
     "metadata": {},
     "output_type": "display_data"
    },
    {
     "data": {
      "text/html": [
       "0.0073"
      ],
      "text/latex": [
       "0.0073"
      ],
      "text/markdown": [
       "0.0073"
      ],
      "text/plain": [
       "[1] 0.0073"
      ]
     },
     "metadata": {},
     "output_type": "display_data"
    },
    {
     "name": "stdout",
     "output_type": "stream",
     "text": [
      "[1] \"X = 4 - E(X) = 0.73\"\n"
     ]
    },
    {
     "data": {
      "text/html": [
       "0.00570223651693674"
      ],
      "text/latex": [
       "0.00570223651693674"
      ],
      "text/markdown": [
       "0.00570223651693674"
      ],
      "text/plain": [
       "[1] 0.005702237"
      ]
     },
     "metadata": {},
     "output_type": "display_data"
    },
    {
     "data": {
      "text/html": [
       "0.0058"
      ],
      "text/latex": [
       "0.0058"
      ],
      "text/markdown": [
       "0.0058"
      ],
      "text/plain": [
       "[1] 0.0058"
      ]
     },
     "metadata": {},
     "output_type": "display_data"
    },
    {
     "name": "stdout",
     "output_type": "stream",
     "text": [
      "[1] \"X = 4 - E(X) = 10\"\n"
     ]
    },
    {
     "data": {
      "text/html": [
       "0.0189166374010354"
      ],
      "text/latex": [
       "0.0189166374010354"
      ],
      "text/markdown": [
       "0.0189166374010354"
      ],
      "text/plain": [
       "[1] 0.01891664"
      ]
     },
     "metadata": {},
     "output_type": "display_data"
    },
    {
     "data": {
      "text/html": [
       "0.02035"
      ],
      "text/latex": [
       "0.02035"
      ],
      "text/markdown": [
       "0.02035"
      ],
      "text/plain": [
       "[1] 0.02035"
      ]
     },
     "metadata": {},
     "output_type": "display_data"
    },
    {
     "name": "stdout",
     "output_type": "stream",
     "text": [
      "[1] \"X = 5 - E(X) = 0.73\"\n"
     ]
    },
    {
     "data": {
      "text/html": [
       "0.000832526531472763"
      ],
      "text/latex": [
       "0.000832526531472763"
      ],
      "text/markdown": [
       "0.000832526531472763"
      ],
      "text/plain": [
       "[1] 0.0008325265"
      ]
     },
     "metadata": {},
     "output_type": "display_data"
    },
    {
     "data": {
      "text/html": [
       "4e-04"
      ],
      "text/latex": [
       "4e-04"
      ],
      "text/markdown": [
       "4e-04"
      ],
      "text/plain": [
       "[1] 4e-04"
      ]
     },
     "metadata": {},
     "output_type": "display_data"
    },
    {
     "name": "stdout",
     "output_type": "stream",
     "text": [
      "[1] \"X = 5 - E(X) = 10\"\n"
     ]
    },
    {
     "data": {
      "text/html": [
       "0.0378332748020707"
      ],
      "text/latex": [
       "0.0378332748020707"
      ],
      "text/markdown": [
       "0.0378332748020707"
      ],
      "text/plain": [
       "[1] 0.03783327"
      ]
     },
     "metadata": {},
     "output_type": "display_data"
    },
    {
     "data": {
      "text/html": [
       "0.0379"
      ],
      "text/latex": [
       "0.0379"
      ],
      "text/markdown": [
       "0.0379"
      ],
      "text/plain": [
       "[1] 0.0379"
      ]
     },
     "metadata": {},
     "output_type": "display_data"
    },
    {
     "name": "stdout",
     "output_type": "stream",
     "text": [
      "[1] \"X = 6 - E(X) = 0.73\"\n"
     ]
    },
    {
     "data": {
      "text/html": [
       "0.000101290727995853"
      ],
      "text/latex": [
       "0.000101290727995853"
      ],
      "text/markdown": [
       "0.000101290727995853"
      ],
      "text/plain": [
       "[1] 0.0001012907"
      ]
     },
     "metadata": {},
     "output_type": "display_data"
    },
    {
     "data": {
      "text/html": [
       "5e-05"
      ],
      "text/latex": [
       "5e-05"
      ],
      "text/markdown": [
       "5e-05"
      ],
      "text/plain": [
       "[1] 5e-05"
      ]
     },
     "metadata": {},
     "output_type": "display_data"
    },
    {
     "name": "stdout",
     "output_type": "stream",
     "text": [
      "[1] \"X = 6 - E(X) = 10\"\n"
     ]
    },
    {
     "data": {
      "text/html": [
       "0.0630554580034512"
      ],
      "text/latex": [
       "0.0630554580034512"
      ],
      "text/markdown": [
       "0.0630554580034512"
      ],
      "text/plain": [
       "[1] 0.06305546"
      ]
     },
     "metadata": {},
     "output_type": "display_data"
    },
    {
     "data": {
      "text/html": [
       "0.06705"
      ],
      "text/latex": [
       "0.06705"
      ],
      "text/markdown": [
       "0.06705"
      ],
      "text/plain": [
       "[1] 0.06705"
      ]
     },
     "metadata": {},
     "output_type": "display_data"
    }
   ],
   "source": [
    "size = 20000\n",
    "eX1 = 0.73\n",
    "eX2 = 10\n",
    "x1_200poison = rpois(size, eX1)\n",
    "x2_200poison = rpois(size, eX2)\n",
    "#\n",
    "\n",
    "print(\"X = 0 - E(X) = 0.73\")\n",
    "dpois(0,eX1)\n",
    "length(x1_200poison[x1_200poison == 0])/size\n",
    "print(\"X = 0 - E(X) = 10\")\n",
    "dpois(0,eX2)\n",
    "length(x2_200poison[x2_200poison == 0])/size\n",
    "\n",
    "print(\"X = 1 - E(X) = 0.73\")\n",
    "dpois(1,eX1)\n",
    "length(x1_200poison[x1_200poison == 1])/size\n",
    "print(\"X = 1 - E(X) = 10\")\n",
    "dpois(1,eX2)\n",
    "length(x2_200poison[x2_200poison == 1])/size\n",
    "\n",
    "print(\"X = 2 - E(X) = 0.73\")\n",
    "dpois(2,eX1)\n",
    "length(x1_200poison[x1_200poison == 2])/size\n",
    "print(\"X = 2 - E(X) = 10\")\n",
    "dpois(2,eX2)\n",
    "length(x2_200poison[x2_200poison == 2])/size\n",
    "\n",
    "print(\"X = 3 - E(X) = 0.73\")\n",
    "dpois(3,eX1)\n",
    "length(x1_200poison[x1_200poison == 3])/size\n",
    "print(\"X = 3 - E(X) = 10\")\n",
    "dpois(3,eX2)\n",
    "length(x2_200poison[x2_200poison == 3])/size\n",
    "\n",
    "print(\"X = 4 - E(X) = 0.73\")\n",
    "dpois(4,eX1)\n",
    "length(x1_200poison[x1_200poison == 4])/size\n",
    "print(\"X = 4 - E(X) = 10\")\n",
    "dpois(4,eX2)\n",
    "length(x2_200poison[x2_200poison == 4])/size\n",
    "\n",
    "print(\"X = 5 - E(X) = 0.73\")\n",
    "dpois(5,eX1)\n",
    "length(x1_200poison[x1_200poison == 5])/size\n",
    "print(\"X = 5 - E(X) = 10\")\n",
    "dpois(5,eX2)\n",
    "length(x2_200poison[x2_200poison == 5])/size\n",
    "\n",
    "print(\"X = 6 - E(X) = 0.73\")\n",
    "dpois(6,eX1)\n",
    "length(x1_200poison[x1_200poison == 6])/size\n",
    "print(\"X = 6 - E(X) = 10\")\n",
    "dpois(6,eX2)\n",
    "length(x2_200poison[x2_200poison == 6])/size\n",
    "\n",
    "#Sim, os valores simulados sao proximos!"
   ]
  },
  {
   "cell_type": "markdown",
   "metadata": {},
   "source": [
    "## Questao 3"
   ]
  },
  {
   "cell_type": "code",
   "execution_count": 199,
   "metadata": {},
   "outputs": [
    {
     "data": {
      "image/png": "[encoded data removed]",
      "text/plain": [
       "plot without title"
      ]
     },
     "metadata": {},
     "output_type": "display_data"
    }
   ],
   "source": [
    "a1 <- 1/2\n",
    "C1 <- 1/2.612\n",
    "a2 <- 1\n",
    "C2 <- 1/1.645\n",
    "a3 <- 2\n",
    "C3 <- 1/1.202\n",
    "\n",
    "dzipf <- function(k, a, C){\n",
    "    return(C / (k ^(a+1)))\n",
    "}\n",
    "\n",
    "pzipf <- function(k, a, C){\n",
    "   return(cumsum(dzipf(k,a,C)))\n",
    "}\n",
    "\n",
    "\n",
    "range1 = seq(1,20,0.1)\n",
    "range2 = seq(1,20,1)\n",
    "\n",
    "par(mfrow=c(3,2))\n",
    "plot(range1,dzipf(range1, a1, C1), type = \"h\")\n",
    "plot(range2,pzipf(range2, a1, C1), type = \"s\")\n",
    "plot(range1,dzipf(range1, a2, C2), type = \"h\")\n",
    "plot(range2,pzipf(range2, a2, C2), type = \"s\")\n",
    "plot(range1,dzipf(range1, a3, C3), type = \"h\")\n",
    "plot(range2,pzipf(range2, a3, C3), type = \"s\")\n",
    "\n"
   ]
  }
 ],
 "metadata": {
  "kernelspec": {
   "display_name": "R",
   "language": "R",
   "name": "ir"
  },
  "language_info": {
   "codemirror_mode": "r",
   "file_extension": ".r",
   "mimetype": "text/x-r-source",
   "name": "R",
   "pygments_lexer": "r",
   "version": "3.4.2"
  }
 },
 "nbformat": 4,
 "nbformat_minor": 2
}
